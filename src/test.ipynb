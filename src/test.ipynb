{
 "cells": [
  {
   "cell_type": "code",
   "execution_count": 54,
   "metadata": {},
   "outputs": [
    {
     "data": {
      "text/html": [
       "<div>\n",
       "<style scoped>\n",
       "    .dataframe tbody tr th:only-of-type {\n",
       "        vertical-align: middle;\n",
       "    }\n",
       "\n",
       "    .dataframe tbody tr th {\n",
       "        vertical-align: top;\n",
       "    }\n",
       "\n",
       "    .dataframe thead th {\n",
       "        text-align: right;\n",
       "    }\n",
       "</style>\n",
       "<table border=\"1\" class=\"dataframe\">\n",
       "  <thead>\n",
       "    <tr style=\"text-align: right;\">\n",
       "      <th></th>\n",
       "      <th>model</th>\n",
       "      <th>f1</th>\n",
       "      <th>precision</th>\n",
       "      <th>recall</th>\n",
       "      <th>accuracy</th>\n",
       "      <th>average_precision</th>\n",
       "      <th>log_loss</th>\n",
       "    </tr>\n",
       "  </thead>\n",
       "  <tbody>\n",
       "    <tr>\n",
       "      <th>0</th>\n",
       "      <td>RNNModel</td>\n",
       "      <td>0.952733</td>\n",
       "      <td>0.921429</td>\n",
       "      <td>0.986239</td>\n",
       "      <td>0.940075</td>\n",
       "      <td>0.917175</td>\n",
       "      <td>0.155102</td>\n",
       "    </tr>\n",
       "    <tr>\n",
       "      <th>1</th>\n",
       "      <td>LSTMModel</td>\n",
       "      <td>0.958269</td>\n",
       "      <td>0.968750</td>\n",
       "      <td>0.948012</td>\n",
       "      <td>0.949438</td>\n",
       "      <td>0.950222</td>\n",
       "      <td>0.124808</td>\n",
       "    </tr>\n",
       "    <tr>\n",
       "      <th>2</th>\n",
       "      <td>XGBoostModel</td>\n",
       "      <td>0.974610</td>\n",
       "      <td>0.970645</td>\n",
       "      <td>0.978607</td>\n",
       "      <td>0.970310</td>\n",
       "      <td>0.962336</td>\n",
       "      <td>0.097744</td>\n",
       "    </tr>\n",
       "    <tr>\n",
       "      <th>3</th>\n",
       "      <td>LogisticRegressionModel</td>\n",
       "      <td>0.863058</td>\n",
       "      <td>0.839004</td>\n",
       "      <td>0.888531</td>\n",
       "      <td>0.835815</td>\n",
       "      <td>0.810387</td>\n",
       "      <td>0.432541</td>\n",
       "    </tr>\n",
       "    <tr>\n",
       "      <th>4</th>\n",
       "      <td>RandomForestModel</td>\n",
       "      <td>0.988940</td>\n",
       "      <td>0.992707</td>\n",
       "      <td>0.985202</td>\n",
       "      <td>0.987169</td>\n",
       "      <td>0.986633</td>\n",
       "      <td>0.045054</td>\n",
       "    </tr>\n",
       "    <tr>\n",
       "      <th>5</th>\n",
       "      <td>GRUModel</td>\n",
       "      <td>0.949358</td>\n",
       "      <td>0.938714</td>\n",
       "      <td>0.960245</td>\n",
       "      <td>0.937266</td>\n",
       "      <td>0.925740</td>\n",
       "      <td>0.139630</td>\n",
       "    </tr>\n",
       "  </tbody>\n",
       "</table>\n",
       "</div>"
      ],
      "text/plain": [
       "                     model        f1  precision    recall  accuracy  \\\n",
       "0                 RNNModel  0.952733   0.921429  0.986239  0.940075   \n",
       "1                LSTMModel  0.958269   0.968750  0.948012  0.949438   \n",
       "2             XGBoostModel  0.974610   0.970645  0.978607  0.970310   \n",
       "3  LogisticRegressionModel  0.863058   0.839004  0.888531  0.835815   \n",
       "4        RandomForestModel  0.988940   0.992707  0.985202  0.987169   \n",
       "5                 GRUModel  0.949358   0.938714  0.960245  0.937266   \n",
       "\n",
       "   average_precision  log_loss  \n",
       "0           0.917175  0.155102  \n",
       "1           0.950222  0.124808  \n",
       "2           0.962336  0.097744  \n",
       "3           0.810387  0.432541  \n",
       "4           0.986633  0.045054  \n",
       "5           0.925740  0.139630  "
      ]
     },
     "execution_count": 54,
     "metadata": {},
     "output_type": "execute_result"
    }
   ],
   "source": [
    "pd.read_csv(\"../output/ddos_1s/combined_metrics.csv\")"
   ]
  },
  {
   "cell_type": "code",
   "execution_count": 43,
   "metadata": {},
   "outputs": [],
   "source": [
    "model = BayesSearchCV(\n",
    "                LogisticRegression(),\n",
    "                {\n",
    "                    'C' : (1e-3, 1e+5, 'log-uniform'),\n",
    "                    'solver' :['newton-cg', 'lbfgs', 'liblinear', 'sag', 'saga'],\n",
    "\n",
    "                },\n",
    "                n_iter=100,\n",
    "                cv=3,\n",
    "                scoring='f1',\n",
    "                n_jobs=-1,\n",
    "            )"
   ]
  },
  {
   "cell_type": "code",
   "execution_count": 45,
   "metadata": {},
   "outputs": [
    {
     "data": {
      "text/plain": [
       "True"
      ]
     },
     "execution_count": 45,
     "metadata": {},
     "output_type": "execute_result"
    }
   ],
   "source": [
    "isinstance(model, BayesSearchCV)"
   ]
  },
  {
   "cell_type": "code",
   "execution_count": 36,
   "metadata": {},
   "outputs": [],
   "source": [
    "a = np.array([1,2,3])"
   ]
  },
  {
   "cell_type": "code",
   "execution_count": 22,
   "metadata": {},
   "outputs": [],
   "source": [
    "from pathlib import Path"
   ]
  },
  {
   "cell_type": "code",
   "execution_count": 23,
   "metadata": {},
   "outputs": [],
   "source": [
    "a = Path('../data/aggregated_binetflows/ddos_1s.csv')"
   ]
  },
  {
   "cell_type": "code",
   "execution_count": 7,
   "metadata": {},
   "outputs": [],
   "source": [
    "data = pd.read_csv('../data/aggregated_binetflows/ddos_1s.csv')"
   ]
  },
  {
   "cell_type": "code",
   "execution_count": 12,
   "metadata": {},
   "outputs": [],
   "source": [
    "label_col = 'label'"
   ]
  },
  {
   "cell_type": "code",
   "execution_count": 20,
   "metadata": {},
   "outputs": [],
   "source": [
    "data.fillna(0,axis=None, inplace=True)\n",
    "data[label_col] = data['n_conn'] - data['n_background'] - data['n_normal']\n",
    "data[label_col] = data[label_col].apply(lambda x: 1 if x > 0 else 0)"
   ]
  },
  {
   "cell_type": "code",
   "execution_count": 21,
   "metadata": {},
   "outputs": [
    {
     "data": {
      "text/plain": [
       "1    20850\n",
       "0    14740\n",
       "Name: label, dtype: int64"
      ]
     },
     "execution_count": 21,
     "metadata": {},
     "output_type": "execute_result"
    }
   ],
   "source": [
    "data.label.value_counts()"
   ]
  },
  {
   "cell_type": "code",
   "execution_count": 11,
   "metadata": {},
   "outputs": [
    {
     "data": {
      "text/plain": [
       "Index(['m_duration', 'n_background', 'n_conn', 'n_dst_ip_a', 'n_dst_ip_b',\n",
       "       'n_dst_ip_c', 'n_dst_ip_na', 'n_dst_port<1024', 'n_dst_port>=1024',\n",
       "       'n_icmp', 'n_normal', 'n_src_ip_a', 'n_src_ip_b', 'n_src_ip_c',\n",
       "       'n_src_ip_na', 'n_src_port<1024', 'n_src_port>=1024', 'n_tcp', 'n_udp',\n",
       "       's_dst_ip_a', 's_dst_ip_b', 's_dst_ip_c', 's_dst_ip_d',\n",
       "       's_dst_port<1024', 's_dst_port>=1024', 's_dstip', 's_duration',\n",
       "       's_packets', 's_src_ip_a', 's_src_ip_b', 's_src_ip_c', 's_src_ip_d',\n",
       "       's_src_port<1024', 's_src_port>=1024', 's_srcbytes', 's_srcip',\n",
       "       's_state', 's_totbytes', 'sd_duration', 'sd_packets', 'sd_srcbytes',\n",
       "       'sd_totbytes'],\n",
       "      dtype='object')"
      ]
     },
     "execution_count": 11,
     "metadata": {},
     "output_type": "execute_result"
    }
   ],
   "source": [
    "data.columns"
   ]
  },
  {
   "cell_type": "code",
   "execution_count": 6,
   "metadata": {},
   "outputs": [
    {
     "name": "stderr",
     "output_type": "stream",
     "text": [
      "/data/saed/env/lib/python3.6/importlib/_bootstrap.py:219: RuntimeWarning: numpy.ufunc size changed, may indicate binary incompatibility. Expected 216, got 192\n",
      "  return f(*args, **kwds)\n",
      "/data/saed/env/lib/python3.6/importlib/_bootstrap.py:219: RuntimeWarning: numpy.ufunc size changed, may indicate binary incompatibility. Expected 216, got 192\n",
      "  return f(*args, **kwds)\n"
     ]
    }
   ],
   "source": [
    "import pandas as pd"
   ]
  },
  {
   "cell_type": "code",
   "execution_count": 4,
   "metadata": {},
   "outputs": [],
   "source": [
    "from models.random_forest import RandomForestModel"
   ]
  },
  {
   "cell_type": "code",
   "execution_count": 5,
   "metadata": {},
   "outputs": [
    {
     "data": {
      "text/plain": [
       "'RandomForestModel'"
      ]
     },
     "execution_count": 5,
     "metadata": {},
     "output_type": "execute_result"
    }
   ],
   "source": [
    "RandomForestModel()"
   ]
  },
  {
   "cell_type": "code",
   "execution_count": null,
   "metadata": {},
   "outputs": [],
   "source": [
    "import pandas as pd\n",
    "import numpy as np\n",
    "import matplotlib.pyplot as plt\n",
    "import click\n",
    "import logging as LOGGER\n",
    "\n",
    "\n",
    "LOGGER.basicConfig(format=\"%(asctime)s %(levelname)s %(message)s\", level=LOGGER.INFO)\n",
    "\n",
    "\n",
    "@click.command()\n",
    "@click.argument(\"aggregated_data_file\", type=click.Path(exists=True))\n",
    "@click.argument(\"label_column\")\n",
    "@click.argument(\"output_directory\")\n",
    "@click.option(\"--test_set_size\", default=0.3, type=click.FLOAT)\n",
    "@click.option(\"--random_seed\", default=2018, type=click.INT)\n",
    "@click.option(\n",
    "    \"--model_list\",\n",
    "    multiple=True,\n",
    "    default=[\"random_forest\", \"xgboost\", \"logistic_regression\"],\n",
    "    help=\"List of model classes to train\",\n",
    ")\n",
    "def train_models(\n",
    "    data_file, label_column, output_directory, test_set_size, random_seed, model_list\n",
    "):\n",
    "    \"\"\" Trains multiple machine learning models for a specific datatable.\n",
    "    \"\"\"\n",
    "    LOGGER.info(f\"Reading {data_file} ...\")\n",
    "    data = pd.read_csv(data_file)\n",
    "#     data = preprocess_data(data)\n",
    "\n",
    "    x_tr, x_te, y_tr, y_te = split_data(data, test_set_size, random_seed)\n",
    "\n",
    "    if all([not do_random_forest, not do_xgboost, not do_lr]):\n",
    "        raise ValueError(\n",
    "            \"Specify models to train with one or more of these flags; --rf, --xgb, --lr\"\n",
    "        )\n",
    "\n",
    "    mapper = {\"random_forst\": object, \"xgboost\": object, \"logistic_regression\": object}\n",
    "\n",
    "    for model_name in model_list:\n",
    "        LOGGER.info(f\"Instantiating {model_name} ...\")\n",
    "\n",
    "        if model_name not in mapper:\n",
    "            LOGGER.warning(f\"Model {model_name} is unknown. Skipping it!\")\n",
    "            continue\n",
    "\n",
    "        model = mapper[model_name]()\n",
    "        LOGGER.info(f\"Fitting {model_name} to the train set ...\")\n",
    "        model.fit(x_tr, y_tr)\n",
    "        LOGGER.info(f\"Evaluating {model_name} on the test set ...\")\n",
    "        model.evaluate(x_te, y_te)\n",
    "\n",
    "    LOGGER.info(\"Done training all the models.\")"
   ]
  }
 ],
 "metadata": {
  "kernelspec": {
   "display_name": "Python 3",
   "language": "python",
   "name": "python3"
  },
  "language_info": {
   "codemirror_mode": {
    "name": "ipython",
    "version": 3
   },
   "file_extension": ".py",
   "mimetype": "text/x-python",
   "name": "python",
   "nbconvert_exporter": "python",
   "pygments_lexer": "ipython3",
   "version": "3.6.7"
  }
 },
 "nbformat": 4,
 "nbformat_minor": 2
}
