{
 "cells": [
  {
   "cell_type": "code",
   "execution_count": 7,
   "metadata": {},
   "outputs": [],
   "source": [
    "data = pd.read_csv('../data/aggregated_binetflows/ddos_1s.csv')"
   ]
  },
  {
   "cell_type": "code",
   "execution_count": 12,
   "metadata": {},
   "outputs": [],
   "source": [
    "label_col = 'label'"
   ]
  },
  {
   "cell_type": "code",
   "execution_count": 13,
   "metadata": {},
   "outputs": [],
   "source": [
    "data.fillna(0,axis=None, inplace=True)\n",
    "data[label_col] = data['n_conn'] - data['n_background'] - data['n_normal']\n",
    "data[label_col] = data[label_col].apply(lambda x: x > 0)"
   ]
  },
  {
   "cell_type": "code",
   "execution_count": 16,
   "metadata": {},
   "outputs": [
    {
     "data": {
      "text/plain": [
       "0       14740\n",
       "1        6309\n",
       "10       4761\n",
       "2        1307\n",
       "20        882\n",
       "5         745\n",
       "11        666\n",
       "3         555\n",
       "83        531\n",
       "15        422\n",
       "6634      410\n",
       "2751      406\n",
       "4         398\n",
       "13        181\n",
       "12        177\n",
       "6         175\n",
       "84        175\n",
       "2761      104\n",
       "9          86\n",
       "6633       80\n",
       "7          78\n",
       "8          60\n",
       "16         58\n",
       "19         54\n",
       "6632       43\n",
       "21         42\n",
       "129        37\n",
       "17         37\n",
       "14         30\n",
       "130        30\n",
       "        ...  \n",
       "1392        1\n",
       "1296        1\n",
       "1040        1\n",
       "3025        1\n",
       "2833        1\n",
       "2769        1\n",
       "529         1\n",
       "2768        1\n",
       "1650        1\n",
       "2960        1\n",
       "1458        1\n",
       "3475        1\n",
       "5232        1\n",
       "3091        1\n",
       "1042        1\n",
       "2867        1\n",
       "754         1\n",
       "690         1\n",
       "2515        1\n",
       "2451        1\n",
       "4368        1\n",
       "6385        1\n",
       "2163        1\n",
       "6193        1\n",
       "1969        1\n",
       "3248        1\n",
       "1009        1\n",
       "3056        1\n",
       "3024        1\n",
       "2830        1\n",
       "Name: label, Length: 954, dtype: int64"
      ]
     },
     "execution_count": 16,
     "metadata": {},
     "output_type": "execute_result"
    }
   ],
   "source": [
    "data.label"
   ]
  },
  {
   "cell_type": "code",
   "execution_count": 11,
   "metadata": {},
   "outputs": [
    {
     "data": {
      "text/plain": [
       "Index(['m_duration', 'n_background', 'n_conn', 'n_dst_ip_a', 'n_dst_ip_b',\n",
       "       'n_dst_ip_c', 'n_dst_ip_na', 'n_dst_port<1024', 'n_dst_port>=1024',\n",
       "       'n_icmp', 'n_normal', 'n_src_ip_a', 'n_src_ip_b', 'n_src_ip_c',\n",
       "       'n_src_ip_na', 'n_src_port<1024', 'n_src_port>=1024', 'n_tcp', 'n_udp',\n",
       "       's_dst_ip_a', 's_dst_ip_b', 's_dst_ip_c', 's_dst_ip_d',\n",
       "       's_dst_port<1024', 's_dst_port>=1024', 's_dstip', 's_duration',\n",
       "       's_packets', 's_src_ip_a', 's_src_ip_b', 's_src_ip_c', 's_src_ip_d',\n",
       "       's_src_port<1024', 's_src_port>=1024', 's_srcbytes', 's_srcip',\n",
       "       's_state', 's_totbytes', 'sd_duration', 'sd_packets', 'sd_srcbytes',\n",
       "       'sd_totbytes'],\n",
       "      dtype='object')"
      ]
     },
     "execution_count": 11,
     "metadata": {},
     "output_type": "execute_result"
    }
   ],
   "source": [
    "data.columns"
   ]
  },
  {
   "cell_type": "code",
   "execution_count": 6,
   "metadata": {},
   "outputs": [
    {
     "name": "stderr",
     "output_type": "stream",
     "text": [
      "/data/saed/env/lib/python3.6/importlib/_bootstrap.py:219: RuntimeWarning: numpy.ufunc size changed, may indicate binary incompatibility. Expected 216, got 192\n",
      "  return f(*args, **kwds)\n",
      "/data/saed/env/lib/python3.6/importlib/_bootstrap.py:219: RuntimeWarning: numpy.ufunc size changed, may indicate binary incompatibility. Expected 216, got 192\n",
      "  return f(*args, **kwds)\n"
     ]
    }
   ],
   "source": [
    "import pandas as pd"
   ]
  },
  {
   "cell_type": "code",
   "execution_count": 4,
   "metadata": {},
   "outputs": [],
   "source": [
    "from models.random_forest import RandomForestModel"
   ]
  },
  {
   "cell_type": "code",
   "execution_count": 5,
   "metadata": {},
   "outputs": [
    {
     "data": {
      "text/plain": [
       "'RandomForestModel'"
      ]
     },
     "execution_count": 5,
     "metadata": {},
     "output_type": "execute_result"
    }
   ],
   "source": [
    "RandomForestModel()"
   ]
  },
  {
   "cell_type": "code",
   "execution_count": null,
   "metadata": {},
   "outputs": [],
   "source": [
    "import pandas as pd\n",
    "import numpy as np\n",
    "import matplotlib.pyplot as plt\n",
    "import click\n",
    "import logging as LOGGER\n",
    "\n",
    "\n",
    "LOGGER.basicConfig(format=\"%(asctime)s %(levelname)s %(message)s\", level=LOGGER.INFO)\n",
    "\n",
    "\n",
    "@click.command()\n",
    "@click.argument(\"aggregated_data_file\", type=click.Path(exists=True))\n",
    "@click.argument(\"label_column\")\n",
    "@click.argument(\"output_directory\")\n",
    "@click.option(\"--test_set_size\", default=0.3, type=click.FLOAT)\n",
    "@click.option(\"--random_seed\", default=2018, type=click.INT)\n",
    "@click.option(\n",
    "    \"--model_list\",\n",
    "    multiple=True,\n",
    "    default=[\"random_forest\", \"xgboost\", \"logistic_regression\"],\n",
    "    help=\"List of model classes to train\",\n",
    ")\n",
    "def train_models(\n",
    "    data_file, label_column, output_directory, test_set_size, random_seed, model_list\n",
    "):\n",
    "    \"\"\" Trains multiple machine learning models for a specific datatable.\n",
    "    \"\"\"\n",
    "    LOGGER.info(f\"Reading {data_file} ...\")\n",
    "    data = pd.read_csv(data_file)\n",
    "#     data = preprocess_data(data)\n",
    "\n",
    "    x_tr, x_te, y_tr, y_te = split_data(data, test_set_size, random_seed)\n",
    "\n",
    "    if all([not do_random_forest, not do_xgboost, not do_lr]):\n",
    "        raise ValueError(\n",
    "            \"Specify models to train with one or more of these flags; --rf, --xgb, --lr\"\n",
    "        )\n",
    "\n",
    "    mapper = {\"random_forst\": object, \"xgboost\": object, \"logistic_regression\": object}\n",
    "\n",
    "    for model_name in model_list:\n",
    "        LOGGER.info(f\"Instantiating {model_name} ...\")\n",
    "\n",
    "        if model_name not in mapper:\n",
    "            LOGGER.warning(f\"Model {model_name} is unknown. Skipping it!\")\n",
    "            continue\n",
    "\n",
    "        model = mapper[model_name]()\n",
    "        LOGGER.info(f\"Fitting {model_name} to the train set ...\")\n",
    "        model.fit(x_tr, y_tr)\n",
    "        LOGGER.info(f\"Evaluating {model_name} on the test set ...\")\n",
    "        model.evaluate(x_te, y_te)\n",
    "\n",
    "    LOGGER.info(\"Done training all the models.\")"
   ]
  }
 ],
 "metadata": {
  "kernelspec": {
   "display_name": "Python 3",
   "language": "python",
   "name": "python3"
  },
  "language_info": {
   "codemirror_mode": {
    "name": "ipython",
    "version": 3
   },
   "file_extension": ".py",
   "mimetype": "text/x-python",
   "name": "python",
   "nbconvert_exporter": "python",
   "pygments_lexer": "ipython3",
   "version": "3.6.7"
  }
 },
 "nbformat": 4,
 "nbformat_minor": 2
}
